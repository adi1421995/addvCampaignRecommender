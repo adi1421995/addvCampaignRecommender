{
 "cells": [
  {
   "cell_type": "markdown",
   "id": "3b086a6d",
   "metadata": {},
   "source": [
    "## Scenario-I for Gender prediction"
   ]
  },
  {
   "cell_type": "code",
   "execution_count": null,
   "id": "d65eee70",
   "metadata": {},
   "outputs": [],
   "source": [
    "%pip install pandas\n",
    "%pip install xgboost==0.90\n",
    "%pip install scikit-learn\n",
    "%pip install mlxtend\n",
    "%pip install six\n",
    "%pip install flask\n",
    "%pip install boto3\n"
   ]
  },
  {
   "cell_type": "code",
   "execution_count": 18,
   "id": "6b6c72cc",
   "metadata": {},
   "outputs": [
    {
     "name": "stderr",
     "output_type": "stream",
     "text": [
      "/emr/notebook-env/lib/python3.7/site-packages/IPython/core/interactiveshell.py:3441: FutureWarning: The error_bad_lines argument has been deprecated and will be removed in a future version.\n",
      "\n",
      "\n",
      "  exec(code_obj, self.user_global_ns, self.user_ns)\n"
     ]
    }
   ],
   "source": [
    "import pandas as pd\n",
    "import numpy as np\n",
    "import xgboost as xgb\n",
    "from sklearn.metrics import accuracy_score\n",
    "from sklearn.preprocessing import LabelEncoder\n",
    "from xgboost import XGBClassifier\n",
    "from sklearn.model_selection import GridSearchCV\n",
    "from sklearn import preprocessing\n",
    "import six\n",
    "import sys\n",
    "sys.modules['sklearn.externals.six'] = six\n",
    "from mlxtend.classifier import StackingCVClassifier\n",
    "from sklearn.neighbors import KNeighborsClassifier\n",
    "from sklearn.ensemble import RandomForestClassifier\n",
    "from sklearn.linear_model import LogisticRegression\n",
    "from sklearn.naive_bayes import GaussianNB \n",
    "from sklearn import model_selection\n",
    "\n",
    "\n",
    "# Load data into a pandas DataFrame\n",
    "data = pd.read_csv(\"https://myawsdemobucket1995.s3.amazonaws.com/final_capstone_train_test.csv\",quoting=3, error_bad_lines=False)\n"
   ]
  },
  {
   "cell_type": "code",
   "execution_count": 19,
   "id": "c4fd6c72",
   "metadata": {},
   "outputs": [],
   "source": [
    "data = data.drop(\"Unnamed: 0\", axis=1)"
   ]
  },
  {
   "cell_type": "code",
   "execution_count": 20,
   "id": "fc3f1021",
   "metadata": {},
   "outputs": [],
   "source": [
    "# Map gender to 0 and 1\n",
    "gender_map = {'M': 0, 'F': 1}\n",
    "data['gender'] = data['gender'].map(gender_map)"
   ]
  },
  {
   "cell_type": "code",
   "execution_count": 21,
   "id": "a6047e1e",
   "metadata": {},
   "outputs": [],
   "source": [
    "data_train = data[data['train_test_flag']=='train'] "
   ]
  },
  {
   "cell_type": "code",
   "execution_count": 22,
   "id": "1434a97e",
   "metadata": {},
   "outputs": [],
   "source": [
    "data_test = data[data['train_test_flag']=='test'] "
   ]
  },
  {
   "cell_type": "code",
   "execution_count": 23,
   "id": "c4b8e035",
   "metadata": {},
   "outputs": [],
   "source": [
    "data_train = data_train.drop('train_test_flag', axis=1)\n",
    "data_test = data_test.drop('train_test_flag', axis=1)"
   ]
  },
  {
   "cell_type": "markdown",
   "id": "38c81f43",
   "metadata": {},
   "source": [
    "## Model Training Gender"
   ]
  },
  {
   "cell_type": "code",
   "execution_count": 24,
   "id": "cca9e10a",
   "metadata": {},
   "outputs": [
    {
     "name": "stdout",
     "output_type": "stream",
     "text": [
      "Accuracy: 0.708375778155065\n"
     ]
    }
   ],
   "source": [
    "# Split into training and testing sets\n",
    "X_train = data_train.drop('gender', axis=1)\n",
    "X_train = X_train.drop('M', axis=1)\n",
    "X_train = X_train.drop('F', axis=1)\n",
    "\n",
    "y_train = data_train['gender']\n",
    "\n",
    "X_test = data_test.drop('gender', axis=1)\n",
    "X_test = X_test.drop('M', axis=1)\n",
    "X_test = X_test.drop('F', axis=1)\n",
    "\n",
    "y_test = data_test['gender']\n",
    "\n",
    "# Create an XGBoost classifier\n",
    "model = xgb.XGBClassifier(min_child_weight=1,\n",
    "                          gamma=0.5,subsample=0.2,\n",
    "                          max_depth=3,\n",
    "                          n_estimators=100,\n",
    "                          learning_rate=0.001)\n",
    "\n",
    "# Fit the model on the training data\n",
    "model.fit(X_train, y_train)\n",
    "\n",
    "# Make predictions on the test data\n",
    "y_pred = model.predict(X_test)\n",
    "\n",
    "# Evaluate the model's accuracy\n",
    "accuracy = accuracy_score(y_test, y_pred)\n",
    "print(\"Accuracy:\", accuracy)"
   ]
  },
  {
   "cell_type": "code",
   "execution_count": 8,
   "id": "7f7547fc",
   "metadata": {},
   "outputs": [
    {
     "data": {
      "text/plain": [
       "{'ResponseMetadata': {'RequestId': 'VMVDNKTP7NZ1TVAG',\n",
       "  'HostId': '2Y0nHzJPWdU5wnRfTvK5sNthpkoCssedEtmWu5LYfuSwgHCzYbPGRdoCEsG4/3GU9VVtgSKSYQI=',\n",
       "  'HTTPStatusCode': 200,\n",
       "  'HTTPHeaders': {'x-amz-id-2': '2Y0nHzJPWdU5wnRfTvK5sNthpkoCssedEtmWu5LYfuSwgHCzYbPGRdoCEsG4/3GU9VVtgSKSYQI=',\n",
       "   'x-amz-request-id': 'VMVDNKTP7NZ1TVAG',\n",
       "   'date': 'Thu, 18 May 2023 15:24:59 GMT',\n",
       "   'x-amz-server-side-encryption': 'AES256',\n",
       "   'etag': '\"9316afe6f699b01dcdd4cb844337dec4\"',\n",
       "   'server': 'AmazonS3',\n",
       "   'content-length': '0'},\n",
       "  'RetryAttempts': 0},\n",
       " 'ETag': '\"9316afe6f699b01dcdd4cb844337dec4\"',\n",
       " 'ServerSideEncryption': 'AES256'}"
      ]
     },
     "execution_count": 8,
     "metadata": {},
     "output_type": "execute_result"
    }
   ],
   "source": [
    "import pickle\n",
    "import boto3\n",
    "bucket='myawsdemobucket1995'\n",
    "key='AdCampaignModelGender.pkl'\n",
    "pickle_byte_obj = pickle.dumps(model)\n",
    "s3_resource = boto3.resource('s3')\n",
    "s3_resource.Object(bucket,key).put(Body=pickle_byte_obj)"
   ]
  },
  {
   "cell_type": "markdown",
   "id": "80ff8c20",
   "metadata": {},
   "source": [
    "## ## Model Training Age"
   ]
  },
  {
   "cell_type": "code",
   "execution_count": 10,
   "id": "160e1232",
   "metadata": {},
   "outputs": [
    {
     "name": "stdout",
     "output_type": "stream",
     "text": [
      "Accuracy: 0.9866440294284098\n"
     ]
    }
   ],
   "source": [
    "# Split into training and testing sets\n",
    "X_train = data_train.drop('age_x', axis=1)\n",
    "X_train = data_train.drop('gender', axis=1)\n",
    "\n",
    "y_train = data_train['age_x']\n",
    "\n",
    "X_test = data_test.drop('age_x', axis=1)\n",
    "X_test = data_test.drop('gender', axis=1)\n",
    "\n",
    "y_test = data_test['age_x']\n",
    "\n",
    "# Create an XGBoost classifier\n",
    "model = xgb.XGBClassifier(min_child_weight=1,\n",
    "                          gamma=0.5,subsample=0.2,\n",
    "                          max_depth=3,\n",
    "                          n_estimators=100,\n",
    "                          learning_rate=0.001)\n",
    "\n",
    "# Fit the model on the training data\n",
    "model.fit(X_train, y_train)\n",
    "\n",
    "# Make predictions on the test data\n",
    "y_pred = model.predict(X_test)\n",
    "\n",
    "# Evaluate the model's accuracy\n",
    "accuracy = accuracy_score(y_test, y_pred)\n",
    "print(\"Accuracy:\", accuracy)"
   ]
  },
  {
   "cell_type": "code",
   "execution_count": 11,
   "id": "4c316ac5",
   "metadata": {},
   "outputs": [
    {
     "data": {
      "text/plain": [
       "{'ResponseMetadata': {'RequestId': 'CJT6QE3G7WK6XJ1R',\n",
       "  'HostId': 'GsM5eGxGCCEXELk6WyqtUoBFxq7FSNHtVUX4tiS+t6YkhFvQ/ma4HgwL0DB04Mkrj7PdbaA9H8s=',\n",
       "  'HTTPStatusCode': 200,\n",
       "  'HTTPHeaders': {'x-amz-id-2': 'GsM5eGxGCCEXELk6WyqtUoBFxq7FSNHtVUX4tiS+t6YkhFvQ/ma4HgwL0DB04Mkrj7PdbaA9H8s=',\n",
       "   'x-amz-request-id': 'CJT6QE3G7WK6XJ1R',\n",
       "   'date': 'Thu, 18 May 2023 15:30:27 GMT',\n",
       "   'x-amz-server-side-encryption': 'AES256',\n",
       "   'etag': '\"aa42b01069e3b80cd933c6e3985ffb0d\"',\n",
       "   'server': 'AmazonS3',\n",
       "   'content-length': '0'},\n",
       "  'RetryAttempts': 0},\n",
       " 'ETag': '\"aa42b01069e3b80cd933c6e3985ffb0d\"',\n",
       " 'ServerSideEncryption': 'AES256'}"
      ]
     },
     "execution_count": 11,
     "metadata": {},
     "output_type": "execute_result"
    }
   ],
   "source": [
    "bucket='myawsdemobucket1995'\n",
    "key='AdCampaignModelAge.pkl'\n",
    "pickle_byte_obj = pickle.dumps(model)\n",
    "s3_resource = boto3.resource('s3')\n",
    "s3_resource.Object(bucket,key).put(Body=pickle_byte_obj)"
   ]
  },
  {
   "cell_type": "markdown",
   "id": "16f98e8b",
   "metadata": {},
   "source": [
    "## Stacked Modal Building"
   ]
  },
  {
   "cell_type": "code",
   "execution_count": 25,
   "id": "ee9f2944",
   "metadata": {},
   "outputs": [],
   "source": [
    "preddata = X_test\n",
    "\n",
    "\n"
   ]
  },
  {
   "cell_type": "code",
   "execution_count": 26,
   "id": "655332ca",
   "metadata": {},
   "outputs": [],
   "source": [
    "# Scaling the data\n",
    "scaler = preprocessing.StandardScaler()\n",
    "scaled_df = scaler.fit_transform(X_train)\n",
    "x_train = pd.DataFrame(scaled_df)\n",
    "scaled_df = scaler.fit_transform(preddata)\n",
    "preddata = pd.DataFrame(scaled_df)"
   ]
  },
  {
   "cell_type": "code",
   "execution_count": 27,
   "id": "71dd2081",
   "metadata": {},
   "outputs": [],
   "source": [
    "# x,y to np \n",
    "x_train = x_train.values\n",
    "y_train = y_train.values"
   ]
  },
  {
   "cell_type": "code",
   "execution_count": 28,
   "id": "c86dfa6f",
   "metadata": {},
   "outputs": [],
   "source": [
    "# 1st set of models\n",
    "clf1 = LogisticRegression()\n",
    "clf2 = RandomForestClassifier(random_state=1, n_estimators=10) # just for demo have taken 10 trees \n",
    "xgb = XGBClassifier()\n",
    "\n",
    "stacking_demo = StackingCVClassifier(classifiers=[clf1, clf2], meta_classifier=xgb, use_probas=True, cv=3)"
   ]
  },
  {
   "cell_type": "code",
   "execution_count": 29,
   "id": "b123cf19",
   "metadata": {},
   "outputs": [
    {
     "name": "stdout",
     "output_type": "stream",
     "text": [
      "Accuracy: 0.52 (+/- 0.01) [lr]\n",
      "Accuracy: 0.50 (+/- 0.02) [Random Forest]\n"
     ]
    },
    {
     "name": "stderr",
     "output_type": "stream",
     "text": [
      "/home/emr-notebook/.local/lib/python3.7/site-packages/sklearn/model_selection/_validation.py:774: UserWarning: Scoring failed. The score on this train-test partition for these parameters will be set to nan. Details: \n",
      "Traceback (most recent call last):\n",
      "  File \"/home/emr-notebook/.local/lib/python3.7/site-packages/sklearn/metrics/_scorer.py\", line 355, in _score\n",
      "    y_pred = method_caller(clf, \"decision_function\", X)\n",
      "  File \"/home/emr-notebook/.local/lib/python3.7/site-packages/sklearn/metrics/_scorer.py\", line 68, in _cached_call\n",
      "    return getattr(estimator, method)(*args, **kwargs)\n",
      "  File \"/home/emr-notebook/.local/lib/python3.7/site-packages/mlxtend/classifier/_base_classification.py\", line 80, in decision_function\n",
      "    return self._do_predict(X, self.meta_clf_.decision_function)\n",
      "AttributeError: 'XGBClassifier' object has no attribute 'decision_function'\n",
      "\n",
      "During handling of the above exception, another exception occurred:\n",
      "\n",
      "Traceback (most recent call last):\n",
      "  File \"/home/emr-notebook/.local/lib/python3.7/site-packages/sklearn/model_selection/_validation.py\", line 761, in _score\n",
      "    scores = scorer(estimator, X_test, y_test)\n",
      "  File \"/home/emr-notebook/.local/lib/python3.7/site-packages/sklearn/metrics/_scorer.py\", line 103, in __call__\n",
      "    score = scorer._score(cached_call, estimator, *args, **kwargs)\n",
      "  File \"/home/emr-notebook/.local/lib/python3.7/site-packages/sklearn/metrics/_scorer.py\", line 372, in _score\n",
      "    y_pred = self._select_proba_binary(y_pred, clf.classes_)\n",
      "AttributeError: 'StackingCVClassifier' object has no attribute 'classes_'\n",
      "\n",
      "  UserWarning,\n",
      "/home/emr-notebook/.local/lib/python3.7/site-packages/sklearn/model_selection/_validation.py:774: UserWarning: Scoring failed. The score on this train-test partition for these parameters will be set to nan. Details: \n",
      "Traceback (most recent call last):\n",
      "  File \"/home/emr-notebook/.local/lib/python3.7/site-packages/sklearn/metrics/_scorer.py\", line 355, in _score\n",
      "    y_pred = method_caller(clf, \"decision_function\", X)\n",
      "  File \"/home/emr-notebook/.local/lib/python3.7/site-packages/sklearn/metrics/_scorer.py\", line 68, in _cached_call\n",
      "    return getattr(estimator, method)(*args, **kwargs)\n",
      "  File \"/home/emr-notebook/.local/lib/python3.7/site-packages/mlxtend/classifier/_base_classification.py\", line 80, in decision_function\n",
      "    return self._do_predict(X, self.meta_clf_.decision_function)\n",
      "AttributeError: 'XGBClassifier' object has no attribute 'decision_function'\n",
      "\n",
      "During handling of the above exception, another exception occurred:\n",
      "\n",
      "Traceback (most recent call last):\n",
      "  File \"/home/emr-notebook/.local/lib/python3.7/site-packages/sklearn/model_selection/_validation.py\", line 761, in _score\n",
      "    scores = scorer(estimator, X_test, y_test)\n",
      "  File \"/home/emr-notebook/.local/lib/python3.7/site-packages/sklearn/metrics/_scorer.py\", line 103, in __call__\n",
      "    score = scorer._score(cached_call, estimator, *args, **kwargs)\n",
      "  File \"/home/emr-notebook/.local/lib/python3.7/site-packages/sklearn/metrics/_scorer.py\", line 372, in _score\n",
      "    y_pred = self._select_proba_binary(y_pred, clf.classes_)\n",
      "AttributeError: 'StackingCVClassifier' object has no attribute 'classes_'\n",
      "\n",
      "  UserWarning,\n"
     ]
    },
    {
     "name": "stdout",
     "output_type": "stream",
     "text": [
      "Accuracy: nan (+/- nan) [StackingClassifier]\n"
     ]
    },
    {
     "name": "stderr",
     "output_type": "stream",
     "text": [
      "/home/emr-notebook/.local/lib/python3.7/site-packages/sklearn/model_selection/_validation.py:774: UserWarning: Scoring failed. The score on this train-test partition for these parameters will be set to nan. Details: \n",
      "Traceback (most recent call last):\n",
      "  File \"/home/emr-notebook/.local/lib/python3.7/site-packages/sklearn/metrics/_scorer.py\", line 355, in _score\n",
      "    y_pred = method_caller(clf, \"decision_function\", X)\n",
      "  File \"/home/emr-notebook/.local/lib/python3.7/site-packages/sklearn/metrics/_scorer.py\", line 68, in _cached_call\n",
      "    return getattr(estimator, method)(*args, **kwargs)\n",
      "  File \"/home/emr-notebook/.local/lib/python3.7/site-packages/mlxtend/classifier/_base_classification.py\", line 80, in decision_function\n",
      "    return self._do_predict(X, self.meta_clf_.decision_function)\n",
      "AttributeError: 'XGBClassifier' object has no attribute 'decision_function'\n",
      "\n",
      "During handling of the above exception, another exception occurred:\n",
      "\n",
      "Traceback (most recent call last):\n",
      "  File \"/home/emr-notebook/.local/lib/python3.7/site-packages/sklearn/model_selection/_validation.py\", line 761, in _score\n",
      "    scores = scorer(estimator, X_test, y_test)\n",
      "  File \"/home/emr-notebook/.local/lib/python3.7/site-packages/sklearn/metrics/_scorer.py\", line 103, in __call__\n",
      "    score = scorer._score(cached_call, estimator, *args, **kwargs)\n",
      "  File \"/home/emr-notebook/.local/lib/python3.7/site-packages/sklearn/metrics/_scorer.py\", line 372, in _score\n",
      "    y_pred = self._select_proba_binary(y_pred, clf.classes_)\n",
      "AttributeError: 'StackingCVClassifier' object has no attribute 'classes_'\n",
      "\n",
      "  UserWarning,\n"
     ]
    }
   ],
   "source": [
    "# Do CV\n",
    "for clf, label in zip([clf1, clf2, stacking_demo], \n",
    "                      ['lr', \n",
    "                       'Random Forest', \n",
    "                       'StackingClassifier']):\n",
    "\n",
    "    scores = model_selection.cross_val_score(clf, x_train, y_train, cv=3, scoring='roc_auc')\n",
    "    print(\"Accuracy: %0.2f (+/- %0.2f) [%s]\" % (scores.mean(), scores.std(), label))"
   ]
  },
  {
   "cell_type": "markdown",
   "id": "b08aae8e",
   "metadata": {},
   "source": [
    "### As XGB Classifier is performing better than other algorithms we will be saving the xgb modal as pickle file for the deployment"
   ]
  },
  {
   "cell_type": "code",
   "execution_count": null,
   "id": "3f3843d1",
   "metadata": {},
   "outputs": [],
   "source": []
  }
 ],
 "metadata": {
  "kernelspec": {
   "display_name": "Python 3",
   "language": "python",
   "name": "python3"
  },
  "language_info": {
   "codemirror_mode": {
    "name": "ipython",
    "version": 3
   },
   "file_extension": ".py",
   "mimetype": "text/x-python",
   "name": "python",
   "nbconvert_exporter": "python",
   "pygments_lexer": "ipython3",
   "version": "3.7.11"
  }
 },
 "nbformat": 4,
 "nbformat_minor": 5
}
